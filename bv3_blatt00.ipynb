{
 "cells": [
  {
   "cell_type": "markdown",
   "metadata": {
    "id": "IZawkiETzwF4"
   },
   "source": [
    "<h1>Übungen zu Bildverarbeitung 3</h1>\n",
    "\n",
    "<h2>Aufgabe 2</h2>"
   ]
  },
  {
   "cell_type": "code",
   "execution_count": null,
   "metadata": {
    "id": "6zISqwe558wB"
   },
   "outputs": [],
   "source": [
    "import numpy as np\n",
    "import matplotlib.pyplot as plt\n",
    "from matplotlib import cm\n",
    "import plotly.graph_objects as go"
   ]
  },
  {
   "cell_type": "markdown",
   "metadata": {
    "id": "tfsHm4M10whV"
   },
   "source": [
    "Vektor mit 10 gleichverteilten Zufallszahlen"
   ]
  },
  {
   "cell_type": "code",
   "execution_count": null,
   "metadata": {
    "id": "NaND-NYc6C57"
   },
   "outputs": [],
   "source": [
    "vec = (np.random.rand(10))\n",
    "vec\n"
   ]
  },
  {
   "cell_type": "code",
   "execution_count": null,
   "metadata": {},
   "outputs": [],
   "source": [
    "vec**2"
   ]
  },
  {
   "cell_type": "markdown",
   "metadata": {
    "id": "RWWreYCq008B"
   },
   "source": [
    "Funktion für Gauß-Verteilung"
   ]
  },
  {
   "cell_type": "code",
   "execution_count": null,
   "metadata": {
    "id": "yrZupI4Y6NA8"
   },
   "outputs": [],
   "source": [
    "def gauss(x,mue=0,sigma=1):\n",
    "  return ( 1 / (sigma*np.sqrt(2*np.pi)) )  * np.exp((-1*(x-mue)**2) / (2*sigma**2))"
   ]
  },
  {
   "cell_type": "markdown",
   "metadata": {
    "id": "UH7RuPkJ0_6f"
   },
   "source": [
    "Vektor ohne for-schleife initialisieren"
   ]
  },
  {
   "cell_type": "code",
   "execution_count": null,
   "metadata": {
    "colab": {
     "base_uri": "https://localhost:8080/"
    },
    "id": "pQkrG4Nj7lcl",
    "outputId": "884f4651-c998-471e-e501-3604651d7759"
   },
   "outputs": [],
   "source": [
    "np.array([*map(gauss,np.arange(0,10))])"
   ]
  },
  {
   "cell_type": "code",
   "execution_count": null,
   "metadata": {
    "colab": {
     "base_uri": "https://localhost:8080/"
    },
    "id": "milQ9hk97m_Y",
    "outputId": "c5bde1cf-3fa7-4962-dffe-7ad612c7b139"
   },
   "outputs": [],
   "source": [
    "np.apply_along_axis(gauss,0,np.arange(0,10))"
   ]
  },
  {
   "cell_type": "markdown",
   "metadata": {
    "id": "E1Y5nDCa1PU2"
   },
   "source": [
    "Funktionsergebnisse im Bereich −3..3 plotten"
   ]
  },
  {
   "cell_type": "code",
   "execution_count": null,
   "metadata": {
    "colab": {
     "base_uri": "https://localhost:8080/",
     "height": 447
    },
    "id": "Nh8s9y6d9x1j",
    "outputId": "420d19f4-cc4a-4422-cc09-0724808758df"
   },
   "outputs": [],
   "source": [
    "x = np.linspace(-3,3,100)\n",
    "# y = np.apply_along_axis(gauss,0,x)\n",
    "y = gauss(x)\n",
    "y2 = gauss(x, 2, 0.333)\n",
    "plt.plot(x,y)\n",
    "plt.plot(x, y2)"
   ]
  },
  {
   "cell_type": "markdown",
   "metadata": {
    "id": "nime_lH10JUl"
   },
   "source": [
    "<h1>Aufgabe 3</h1>"
   ]
  },
  {
   "cell_type": "code",
   "execution_count": null,
   "metadata": {
    "colab": {
     "base_uri": "https://localhost:8080/",
     "height": 517
    },
    "id": "-eVcQmsF95mr",
    "outputId": "6eb54d1f-db6f-4ab5-eaf1-1fb3b593005c"
   },
   "outputs": [],
   "source": [
    "Y = X = np.linspace(-20,20,300)\n",
    "X, Y = np.meshgrid(X,Y)\n",
    "r = np.sqrt(X**2+Y**2)\n",
    "Z = np.cos(r)\n",
    "\n",
    "fig = go.Figure(data=[go.Surface(z=Z, x=X, y=Y)])\n",
    "fig.update_layout(title='COSINE', autosize=False,\n",
    "                  width=500, height=500,\n",
    "                  margin=dict(l=65, r=50, b=65, t=90))\n",
    "fig.show()"
   ]
  },
  {
   "cell_type": "code",
   "execution_count": null,
   "metadata": {
    "colab": {
     "base_uri": "https://localhost:8080/",
     "height": 517
    },
    "id": "fD1uJo7qCli8",
    "outputId": "6e898893-4d34-42bc-f112-0ce51d487a94"
   },
   "outputs": [],
   "source": [
    "_lambda = 0.08\n",
    "\n",
    "W = Z / np.exp(np.sqrt(X**2+Y**2)*_lambda)\n",
    "\n",
    "fig = go.Figure(data=[go.Surface(z=W, x=X, y=Y)])\n",
    "fig.update_layout(title='COSINE + DAMPENING', autosize=False,\n",
    "                  width=500, height=500,\n",
    "                  margin=dict(l=65, r=50, b=65, t=90))\n",
    "fig.show()"
   ]
  },
  {
   "cell_type": "code",
   "execution_count": null,
   "metadata": {},
   "outputs": [],
   "source": []
  }
 ],
 "metadata": {
  "colab": {
   "provenance": []
  },
  "kernelspec": {
   "display_name": "Python 3 (ipykernel)",
   "language": "python",
   "name": "python3"
  },
  "language_info": {
   "codemirror_mode": {
    "name": "ipython",
    "version": 3
   },
   "file_extension": ".py",
   "mimetype": "text/x-python",
   "name": "python",
   "nbconvert_exporter": "python",
   "pygments_lexer": "ipython3",
   "version": "3.9.16"
  }
 },
 "nbformat": 4,
 "nbformat_minor": 4
}
